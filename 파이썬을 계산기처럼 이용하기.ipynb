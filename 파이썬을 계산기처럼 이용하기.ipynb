{
 "cells": [
  {
   "cell_type": "markdown",
   "id": "9e7a200b",
   "metadata": {},
   "source": [
    "### 간단한 사칙연산"
   ]
  },
  {
   "cell_type": "code",
   "execution_count": 1,
   "id": "1846eb1f",
   "metadata": {},
   "outputs": [
    {
     "name": "stdout",
     "output_type": "stream",
     "text": [
      "2\n",
      "3\n",
      "30\n",
      "5.0\n"
     ]
    }
   ],
   "source": [
    "print(1+1)\n",
    "print(5-2)\n",
    "print(15*2)\n",
    "print(10/2)"
   ]
  },
  {
   "cell_type": "code",
   "execution_count": 2,
   "id": "c1006765",
   "metadata": {},
   "outputs": [
    {
     "name": "stdout",
     "output_type": "stream",
     "text": [
      "6.5\n",
      "-1.5\n",
      "2.8\n",
      "2.5\n"
     ]
    }
   ],
   "source": [
    "print(1.2+5.3)\n",
    "print(3.5-5.0)\n",
    "print(1.4*2)\n",
    "print(5/2)"
   ]
  },
  {
   "cell_type": "code",
   "execution_count": 3,
   "id": "321da8e5",
   "metadata": {},
   "outputs": [
    {
     "name": "stdout",
     "output_type": "stream",
     "text": [
      "14\n",
      "3.5\n",
      "8.0\n",
      "11\n"
     ]
    }
   ],
   "source": [
    "print(2+3*4)\n",
    "print(3/2*4-5/2)\n",
    "print(10/5+(5-2)*2)\n",
    "print((5*4-15)+(5-2)*(9-7))"
   ]
  },
  {
   "cell_type": "markdown",
   "id": "685c75ed",
   "metadata": {},
   "source": [
    "### type함수\n",
    "\n",
    "- 자료의 형식(데이터 타입)을 알려주는 함수"
   ]
  },
  {
   "cell_type": "code",
   "execution_count": 4,
   "id": "2efa786e",
   "metadata": {},
   "outputs": [
    {
     "data": {
      "text/plain": [
       "int"
      ]
     },
     "execution_count": 4,
     "metadata": {},
     "output_type": "execute_result"
    }
   ],
   "source": [
    "type(3)"
   ]
  },
  {
   "cell_type": "code",
   "execution_count": 5,
   "id": "b84aa64e",
   "metadata": {},
   "outputs": [
    {
     "data": {
      "text/plain": [
       "float"
      ]
     },
     "execution_count": 5,
     "metadata": {},
     "output_type": "execute_result"
    }
   ],
   "source": [
    "type(1.2)"
   ]
  },
  {
   "cell_type": "code",
   "execution_count": 6,
   "id": "e0ffec73",
   "metadata": {},
   "outputs": [
    {
     "data": {
      "text/plain": [
       "str"
      ]
     },
     "execution_count": 6,
     "metadata": {},
     "output_type": "execute_result"
    }
   ],
   "source": [
    "type(\"p\")"
   ]
  },
  {
   "cell_type": "markdown",
   "id": "0e12d951",
   "metadata": {},
   "source": [
    "### 거듭 제곱과 나머지"
   ]
  },
  {
   "cell_type": "code",
   "execution_count": 7,
   "id": "b861cdd4",
   "metadata": {},
   "outputs": [
    {
     "data": {
      "text/plain": [
       "32"
      ]
     },
     "execution_count": 7,
     "metadata": {},
     "output_type": "execute_result"
    }
   ],
   "source": [
    "2**5"
   ]
  },
  {
   "cell_type": "code",
   "execution_count": 8,
   "id": "81e3d53d",
   "metadata": {},
   "outputs": [
    {
     "data": {
      "text/plain": [
       "1.4142135623730951"
      ]
     },
     "execution_count": 8,
     "metadata": {},
     "output_type": "execute_result"
    }
   ],
   "source": [
    "2**(1/2)"
   ]
  },
  {
   "cell_type": "code",
   "execution_count": 9,
   "id": "4c5b8b0d",
   "metadata": {},
   "outputs": [
    {
     "data": {
      "text/plain": [
       "3"
      ]
     },
     "execution_count": 9,
     "metadata": {},
     "output_type": "execute_result"
    }
   ],
   "source": [
    "# 나머지\n",
    "13 % 5"
   ]
  },
  {
   "cell_type": "code",
   "execution_count": 10,
   "id": "17dee488",
   "metadata": {},
   "outputs": [
    {
     "data": {
      "text/plain": [
       "2"
      ]
     },
     "execution_count": 10,
     "metadata": {},
     "output_type": "execute_result"
    }
   ],
   "source": [
    "# 몫\n",
    "13 // 5"
   ]
  },
  {
   "cell_type": "markdown",
   "id": "ac128d3c",
   "metadata": {},
   "source": [
    "### 과학적 표기법"
   ]
  },
  {
   "cell_type": "code",
   "execution_count": 11,
   "id": "02cb1fcc",
   "metadata": {},
   "outputs": [
    {
     "data": {
      "text/plain": [
       "1000.0"
      ]
     },
     "execution_count": 11,
     "metadata": {},
     "output_type": "execute_result"
    }
   ],
   "source": [
    "# 10의 세재곱 1e가 10이다\n",
    "1e3"
   ]
  },
  {
   "cell_type": "code",
   "execution_count": 12,
   "id": "d98ed9f3",
   "metadata": {},
   "outputs": [
    {
     "data": {
      "text/plain": [
       "1000000000000000.0"
      ]
     },
     "execution_count": 12,
     "metadata": {},
     "output_type": "execute_result"
    }
   ],
   "source": [
    "1e15"
   ]
  },
  {
   "cell_type": "code",
   "execution_count": 16,
   "id": "d3c166f8",
   "metadata": {},
   "outputs": [
    {
     "data": {
      "text/plain": [
       "1e+17"
      ]
     },
     "execution_count": 16,
     "metadata": {},
     "output_type": "execute_result"
    }
   ],
   "source": [
    "1e17"
   ]
  },
  {
   "cell_type": "code",
   "execution_count": 14,
   "id": "7e3c356e",
   "metadata": {},
   "outputs": [
    {
     "data": {
      "text/plain": [
       "0.0001"
      ]
     },
     "execution_count": 14,
     "metadata": {},
     "output_type": "execute_result"
    }
   ],
   "source": [
    "1e-4"
   ]
  },
  {
   "cell_type": "code",
   "execution_count": 15,
   "id": "453f574f",
   "metadata": {},
   "outputs": [
    {
     "data": {
      "text/plain": [
       "1e-05"
      ]
     },
     "execution_count": 15,
     "metadata": {},
     "output_type": "execute_result"
    }
   ],
   "source": [
    "1e-5"
   ]
  },
  {
   "cell_type": "code",
   "execution_count": 17,
   "id": "3f671f78",
   "metadata": {},
   "outputs": [
    {
     "data": {
      "text/plain": [
       "1e-06"
      ]
     },
     "execution_count": 17,
     "metadata": {},
     "output_type": "execute_result"
    }
   ],
   "source": [
    "1e-6"
   ]
  },
  {
   "cell_type": "markdown",
   "id": "a09fa6df",
   "metadata": {},
   "source": [
    "### 진수표현"
   ]
  },
  {
   "cell_type": "code",
   "execution_count": 18,
   "id": "31f3a696",
   "metadata": {},
   "outputs": [
    {
     "data": {
      "text/plain": [
       "'0b10001'"
      ]
     },
     "execution_count": 18,
     "metadata": {},
     "output_type": "execute_result"
    }
   ],
   "source": [
    "# 2진수, 17을 2진수를 표현한 것\n",
    "bin(17)"
   ]
  },
  {
   "cell_type": "code",
   "execution_count": 19,
   "id": "b5bdc874",
   "metadata": {},
   "outputs": [
    {
     "data": {
      "text/plain": [
       "'0o21'"
      ]
     },
     "execution_count": 19,
     "metadata": {},
     "output_type": "execute_result"
    }
   ],
   "source": [
    "# 8진수, 17을 8진수로 표현한 것\n",
    "oct(17)"
   ]
  },
  {
   "cell_type": "code",
   "execution_count": 22,
   "id": "1f60c3ab",
   "metadata": {},
   "outputs": [
    {
     "name": "stdout",
     "output_type": "stream",
     "text": [
      "0x11\n",
      "<class 'str'>\n"
     ]
    }
   ],
   "source": [
    "# 16진수, 17을 16진수로 표현한 것\n",
    "print(hex(17))\n",
    "print(type(hex(17)))\n",
    "# 진수 표현 된 것은 문자열이다. 따라서 bin(), oct(), hex() 함수를 이용한 출력 결과는 산술 연산에 이용할 수 없음. \n",
    "# 진수 변환은 연산이 모두 끝난 후에 해야함"
   ]
  },
  {
   "cell_type": "markdown",
   "id": "fde855a4",
   "metadata": {},
   "source": [
    "### 논리연산"
   ]
  },
  {
   "cell_type": "code",
   "execution_count": 27,
   "id": "8e0fc835",
   "metadata": {},
   "outputs": [
    {
     "name": "stdout",
     "output_type": "stream",
     "text": [
      "True\n",
      "False\n",
      "<class 'bool'>\n"
     ]
    }
   ],
   "source": [
    "print(True)\n",
    "print(False)\n",
    "print(type(True))\n",
    "\n",
    "# 논리연산의 True, False는 boolean타입임\n",
    "# 논리연산에서 참 거짓을 가리기 위한 True, False는 true, false, TRUE, FALSE 등 소문자 대문자열로 쓸 수 없다."
   ]
  },
  {
   "cell_type": "code",
   "execution_count": 28,
   "id": "ba4e598c",
   "metadata": {},
   "outputs": [
    {
     "name": "stdout",
     "output_type": "stream",
     "text": [
      "False\n",
      "True\n",
      "False\n"
     ]
    }
   ],
   "source": [
    "# bool 데이터의 경우 논리연산만 가능함\n",
    "# 논리곱 and, 논리합 or, 논리 부정 not이 있음\n",
    "# and는 두개가 참일 때만 참, or는 두개 중 하나라도 참이면 참, not은 하나가 참이면 거짓이고, 거짓이면 참임\n",
    "\n",
    "print(True and False)\n",
    "print(True or False)\n",
    "print(not True)"
   ]
  },
  {
   "cell_type": "markdown",
   "id": "2d5ecc50",
   "metadata": {},
   "source": [
    "### 비교연산"
   ]
  },
  {
   "cell_type": "code",
   "execution_count": 33,
   "id": "279c95f9",
   "metadata": {},
   "outputs": [
    {
     "name": "stdout",
     "output_type": "stream",
     "text": [
      "True\n",
      "False\n",
      "False\n",
      "False\n",
      "True\n",
      "True\n"
     ]
    }
   ],
   "source": [
    "# 비교 연산도 bool 데이터, 논리연산과 함께 사용하는 경우가 많음\n",
    "\n",
    "a=10\n",
    "b=10\n",
    "\n",
    "print(a == b)\n",
    "print(a != b)\n",
    "print(a < b)\n",
    "print(a > b)\n",
    "print(a <= b)\n",
    "print(a >= b)"
   ]
  },
  {
   "cell_type": "code",
   "execution_count": 34,
   "id": "6160be3b",
   "metadata": {},
   "outputs": [
    {
     "data": {
      "text/plain": [
       "True"
      ]
     },
     "execution_count": 34,
     "metadata": {},
     "output_type": "execute_result"
    }
   ],
   "source": [
    "1 > 0 and -2 < 0"
   ]
  },
  {
   "cell_type": "code",
   "execution_count": 35,
   "id": "0c03b8eb",
   "metadata": {},
   "outputs": [
    {
     "data": {
      "text/plain": [
       "False"
      ]
     },
     "execution_count": 35,
     "metadata": {},
     "output_type": "execute_result"
    }
   ],
   "source": [
    "(3 < 0) and (-5 > 0) and (1 > 5)"
   ]
  },
  {
   "cell_type": "code",
   "execution_count": 42,
   "id": "8428eb1d",
   "metadata": {},
   "outputs": [
    {
     "data": {
      "text/plain": [
       "True"
      ]
     },
     "execution_count": 42,
     "metadata": {},
     "output_type": "execute_result"
    }
   ],
   "source": [
    "((3 > 0) or ((-5 > 0) and (1 > 5)))"
   ]
  }
 ],
 "metadata": {
  "kernelspec": {
   "display_name": "Python 3",
   "language": "python",
   "name": "python3"
  },
  "language_info": {
   "codemirror_mode": {
    "name": "ipython",
    "version": 3
   },
   "file_extension": ".py",
   "mimetype": "text/x-python",
   "name": "python",
   "nbconvert_exporter": "python",
   "pygments_lexer": "ipython3",
   "version": "3.8.8"
  }
 },
 "nbformat": 4,
 "nbformat_minor": 5
}
